{
 "cells": [
  {
   "cell_type": "markdown",
   "metadata": {},
   "source": [
    "# \"Curva de estabilidad\" de Morse para H2"
   ]
  },
  {
   "cell_type": "code",
   "execution_count": 1,
   "metadata": {},
   "outputs": [],
   "source": [
    "#carpeta de trabajo\n",
    "import os\n",
    "os.chdir('/home/matilda/00_grupo_quimica/lennard_jones/moleculas')"
   ]
  },
  {
   "cell_type": "code",
   "execution_count": 2,
   "metadata": {},
   "outputs": [
    {
     "data": {
      "text/plain": [
       "30"
      ]
     },
     "execution_count": 2,
     "metadata": {},
     "output_type": "execute_result"
    }
   ],
   "source": [
    "#H      0.000000    0.000000    0.000000\n",
    "#H      variable    0.000000    0.000000\n",
    "\n",
    "lista = list(range(50,200,5))\n",
    "len(lista)"
   ]
  },
  {
   "cell_type": "code",
   "execution_count": 3,
   "metadata": {},
   "outputs": [
    {
     "data": {
      "text/plain": [
       "array([0.5 , 0.55, 0.6 , 0.65, 0.7 , 0.75, 0.8 , 0.85, 0.9 , 0.95, 1.  ,\n",
       "       1.05, 1.1 , 1.15, 1.2 , 1.25, 1.3 , 1.35, 1.4 , 1.45, 1.5 , 1.55,\n",
       "       1.6 , 1.65, 1.7 , 1.75, 1.8 , 1.85, 1.9 , 1.95])"
      ]
     },
     "execution_count": 3,
     "metadata": {},
     "output_type": "execute_result"
    }
   ],
   "source": [
    "import numpy as np\n",
    "distancias = np.array(lista)\n",
    "distancias/100"
   ]
  },
  {
   "cell_type": "code",
   "execution_count": 4,
   "metadata": {},
   "outputs": [
    {
     "name": "stdout",
     "output_type": "stream",
     "text": [
      "30\r\n"
     ]
    }
   ],
   "source": [
    "!ls | wc -l"
   ]
  },
  {
   "cell_type": "code",
   "execution_count": 5,
   "metadata": {},
   "outputs": [],
   "source": [
    "# Nivel de cálculo y propiedades a calcular:\n",
    "\n",
    "with open(\"config_input.txt\",\"w\") as f:\n",
    "  f.write(\"%NProcShared = 8 \\n\")\n",
    "  f.write(\"%Chk=micheckpoint.chk \\n\")\n",
    "  f.write(\"#p B3LYP/6-31G(d,p) SP \\n\")\n",
    "  f.write(\"\\n\")\n",
    "  f.write(\" texto_informativo \\n\")\n",
    "  f.write(\"\\n\")\n",
    "  f.write(\"0 1 \\n\")"
   ]
  },
  {
   "cell_type": "code",
   "execution_count": 6,
   "metadata": {},
   "outputs": [],
   "source": [
    "# creacion de tmp ok!\n",
    "for inp in range(30):\n",
    "    !mkdir {inp}\n",
    "    !ls *txt molecula{inp}.xyz > ./{inp}/tmp\n",
    "    !cp config_input.txt /home/matilda/00_grupo_quimica/lennard_jones/moleculas/{inp}/\n",
    "    !cp molecula{inp}.xyz /home/matilda/00_grupo_quimica/lennard_jones/moleculas/{inp}/"
   ]
  },
  {
   "cell_type": "code",
   "execution_count": 7,
   "metadata": {},
   "outputs": [
    {
     "name": "stdout",
     "output_type": "stream",
     "text": [
      "/home/matilda/00_grupo_quimica/lennard_jones/moleculas\r\n"
     ]
    }
   ],
   "source": [
    "!pwd"
   ]
  },
  {
   "cell_type": "code",
   "execution_count": 8,
   "metadata": {},
   "outputs": [
    {
     "name": "stdout",
     "output_type": "stream",
     "text": [
      "/home/matilda/00_grupo_quimica/lennard_jones/moleculas/0\n",
      "/home/matilda/00_grupo_quimica/lennard_jones/moleculas\n",
      "/home/matilda/00_grupo_quimica/lennard_jones/moleculas/1\n",
      "/home/matilda/00_grupo_quimica/lennard_jones/moleculas\n",
      "/home/matilda/00_grupo_quimica/lennard_jones/moleculas/2\n",
      "/home/matilda/00_grupo_quimica/lennard_jones/moleculas\n",
      "/home/matilda/00_grupo_quimica/lennard_jones/moleculas/3\n",
      "/home/matilda/00_grupo_quimica/lennard_jones/moleculas\n",
      "/home/matilda/00_grupo_quimica/lennard_jones/moleculas/4\n",
      "/home/matilda/00_grupo_quimica/lennard_jones/moleculas\n",
      "/home/matilda/00_grupo_quimica/lennard_jones/moleculas/5\n",
      "/home/matilda/00_grupo_quimica/lennard_jones/moleculas\n",
      "/home/matilda/00_grupo_quimica/lennard_jones/moleculas/6\n",
      "/home/matilda/00_grupo_quimica/lennard_jones/moleculas\n",
      "/home/matilda/00_grupo_quimica/lennard_jones/moleculas/7\n",
      "/home/matilda/00_grupo_quimica/lennard_jones/moleculas\n",
      "/home/matilda/00_grupo_quimica/lennard_jones/moleculas/8\n",
      "/home/matilda/00_grupo_quimica/lennard_jones/moleculas\n",
      "/home/matilda/00_grupo_quimica/lennard_jones/moleculas/9\n",
      "/home/matilda/00_grupo_quimica/lennard_jones/moleculas\n",
      "/home/matilda/00_grupo_quimica/lennard_jones/moleculas/10\n",
      "/home/matilda/00_grupo_quimica/lennard_jones/moleculas\n",
      "/home/matilda/00_grupo_quimica/lennard_jones/moleculas/11\n",
      "/home/matilda/00_grupo_quimica/lennard_jones/moleculas\n",
      "/home/matilda/00_grupo_quimica/lennard_jones/moleculas/12\n",
      "/home/matilda/00_grupo_quimica/lennard_jones/moleculas\n",
      "/home/matilda/00_grupo_quimica/lennard_jones/moleculas/13\n",
      "/home/matilda/00_grupo_quimica/lennard_jones/moleculas\n",
      "/home/matilda/00_grupo_quimica/lennard_jones/moleculas/14\n",
      "/home/matilda/00_grupo_quimica/lennard_jones/moleculas\n",
      "/home/matilda/00_grupo_quimica/lennard_jones/moleculas/15\n",
      "/home/matilda/00_grupo_quimica/lennard_jones/moleculas\n",
      "/home/matilda/00_grupo_quimica/lennard_jones/moleculas/16\n",
      "/home/matilda/00_grupo_quimica/lennard_jones/moleculas\n",
      "/home/matilda/00_grupo_quimica/lennard_jones/moleculas/17\n",
      "/home/matilda/00_grupo_quimica/lennard_jones/moleculas\n",
      "/home/matilda/00_grupo_quimica/lennard_jones/moleculas/18\n",
      "/home/matilda/00_grupo_quimica/lennard_jones/moleculas\n",
      "/home/matilda/00_grupo_quimica/lennard_jones/moleculas/19\n",
      "/home/matilda/00_grupo_quimica/lennard_jones/moleculas\n",
      "/home/matilda/00_grupo_quimica/lennard_jones/moleculas/20\n",
      "/home/matilda/00_grupo_quimica/lennard_jones/moleculas\n",
      "/home/matilda/00_grupo_quimica/lennard_jones/moleculas/21\n",
      "/home/matilda/00_grupo_quimica/lennard_jones/moleculas\n",
      "/home/matilda/00_grupo_quimica/lennard_jones/moleculas/22\n",
      "/home/matilda/00_grupo_quimica/lennard_jones/moleculas\n",
      "/home/matilda/00_grupo_quimica/lennard_jones/moleculas/23\n",
      "/home/matilda/00_grupo_quimica/lennard_jones/moleculas\n",
      "/home/matilda/00_grupo_quimica/lennard_jones/moleculas/24\n",
      "/home/matilda/00_grupo_quimica/lennard_jones/moleculas\n",
      "/home/matilda/00_grupo_quimica/lennard_jones/moleculas/25\n",
      "/home/matilda/00_grupo_quimica/lennard_jones/moleculas\n",
      "/home/matilda/00_grupo_quimica/lennard_jones/moleculas/26\n",
      "/home/matilda/00_grupo_quimica/lennard_jones/moleculas\n",
      "/home/matilda/00_grupo_quimica/lennard_jones/moleculas/27\n",
      "/home/matilda/00_grupo_quimica/lennard_jones/moleculas\n",
      "/home/matilda/00_grupo_quimica/lennard_jones/moleculas/28\n",
      "/home/matilda/00_grupo_quimica/lennard_jones/moleculas\n",
      "/home/matilda/00_grupo_quimica/lennard_jones/moleculas/29\n",
      "/home/matilda/00_grupo_quimica/lennard_jones/moleculas\n"
     ]
    }
   ],
   "source": [
    "# Crearemos el archivo \".com\" para cada input\n",
    "for inp2 in range(30):\n",
    "    %cd ./{inp2}\n",
    "    f = open(\"tmp\",\"r\")\n",
    "    filenames = f.read().splitlines()\n",
    "    #print(filenames)\n",
    "    with open('molecula.com', 'w') as outfile:\n",
    "        for fname in filenames:\n",
    "            with open(fname) as infile:\n",
    "                for line in infile:\n",
    "                    outfile.write(line)\n",
    "        outfile.write(\"\\n\")\n",
    "        outfile.write(\"\\n\")\n",
    "        outfile.write(\"\\n\")\n",
    "    %cd .."
   ]
  },
  {
   "cell_type": "code",
   "execution_count": 9,
   "metadata": {
    "scrolled": true
   },
   "outputs": [
    {
     "name": "stdout",
     "output_type": "stream",
     "text": [
      "/home/matilda/00_grupo_quimica/lennard_jones/moleculas/0\n",
      "/home/matilda/00_grupo_quimica/lennard_jones/moleculas\n",
      "/home/matilda/00_grupo_quimica/lennard_jones/moleculas/1\n",
      "/home/matilda/00_grupo_quimica/lennard_jones/moleculas\n",
      "/home/matilda/00_grupo_quimica/lennard_jones/moleculas/2\n",
      "/home/matilda/00_grupo_quimica/lennard_jones/moleculas\n",
      "/home/matilda/00_grupo_quimica/lennard_jones/moleculas/3\n",
      "/home/matilda/00_grupo_quimica/lennard_jones/moleculas\n",
      "/home/matilda/00_grupo_quimica/lennard_jones/moleculas/4\n",
      "/home/matilda/00_grupo_quimica/lennard_jones/moleculas\n",
      "/home/matilda/00_grupo_quimica/lennard_jones/moleculas/5\n",
      "/home/matilda/00_grupo_quimica/lennard_jones/moleculas\n",
      "/home/matilda/00_grupo_quimica/lennard_jones/moleculas/6\n",
      "/home/matilda/00_grupo_quimica/lennard_jones/moleculas\n",
      "/home/matilda/00_grupo_quimica/lennard_jones/moleculas/7\n",
      "/home/matilda/00_grupo_quimica/lennard_jones/moleculas\n",
      "/home/matilda/00_grupo_quimica/lennard_jones/moleculas/8\n",
      "/home/matilda/00_grupo_quimica/lennard_jones/moleculas\n",
      "/home/matilda/00_grupo_quimica/lennard_jones/moleculas/9\n",
      "/home/matilda/00_grupo_quimica/lennard_jones/moleculas\n",
      "/home/matilda/00_grupo_quimica/lennard_jones/moleculas/10\n",
      "/home/matilda/00_grupo_quimica/lennard_jones/moleculas\n",
      "/home/matilda/00_grupo_quimica/lennard_jones/moleculas/11\n",
      "/home/matilda/00_grupo_quimica/lennard_jones/moleculas\n",
      "/home/matilda/00_grupo_quimica/lennard_jones/moleculas/12\n",
      "/home/matilda/00_grupo_quimica/lennard_jones/moleculas\n",
      "/home/matilda/00_grupo_quimica/lennard_jones/moleculas/13\n",
      "/home/matilda/00_grupo_quimica/lennard_jones/moleculas\n",
      "/home/matilda/00_grupo_quimica/lennard_jones/moleculas/14\n",
      "/home/matilda/00_grupo_quimica/lennard_jones/moleculas\n",
      "/home/matilda/00_grupo_quimica/lennard_jones/moleculas/15\n",
      "/home/matilda/00_grupo_quimica/lennard_jones/moleculas\n",
      "/home/matilda/00_grupo_quimica/lennard_jones/moleculas/16\n",
      "/home/matilda/00_grupo_quimica/lennard_jones/moleculas\n",
      "/home/matilda/00_grupo_quimica/lennard_jones/moleculas/17\n",
      "/home/matilda/00_grupo_quimica/lennard_jones/moleculas\n",
      "/home/matilda/00_grupo_quimica/lennard_jones/moleculas/18\n",
      "/home/matilda/00_grupo_quimica/lennard_jones/moleculas\n",
      "/home/matilda/00_grupo_quimica/lennard_jones/moleculas/19\n",
      "/home/matilda/00_grupo_quimica/lennard_jones/moleculas\n",
      "/home/matilda/00_grupo_quimica/lennard_jones/moleculas/20\n",
      "/home/matilda/00_grupo_quimica/lennard_jones/moleculas\n",
      "/home/matilda/00_grupo_quimica/lennard_jones/moleculas/21\n",
      "/home/matilda/00_grupo_quimica/lennard_jones/moleculas\n",
      "/home/matilda/00_grupo_quimica/lennard_jones/moleculas/22\n",
      "/home/matilda/00_grupo_quimica/lennard_jones/moleculas\n",
      "/home/matilda/00_grupo_quimica/lennard_jones/moleculas/23\n",
      "/home/matilda/00_grupo_quimica/lennard_jones/moleculas\n",
      "/home/matilda/00_grupo_quimica/lennard_jones/moleculas/24\n",
      "/home/matilda/00_grupo_quimica/lennard_jones/moleculas\n",
      "/home/matilda/00_grupo_quimica/lennard_jones/moleculas/25\n",
      "/home/matilda/00_grupo_quimica/lennard_jones/moleculas\n",
      "/home/matilda/00_grupo_quimica/lennard_jones/moleculas/26\n",
      "/home/matilda/00_grupo_quimica/lennard_jones/moleculas\n",
      "/home/matilda/00_grupo_quimica/lennard_jones/moleculas/27\n",
      "/home/matilda/00_grupo_quimica/lennard_jones/moleculas\n",
      "/home/matilda/00_grupo_quimica/lennard_jones/moleculas/28\n",
      "/home/matilda/00_grupo_quimica/lennard_jones/moleculas\n",
      "/home/matilda/00_grupo_quimica/lennard_jones/moleculas/29\n",
      "/home/matilda/00_grupo_quimica/lennard_jones/moleculas\n"
     ]
    }
   ],
   "source": [
    "#Ejecutar g09\n",
    "for i in range(30):\n",
    "    %cd ./{i}\n",
    "    !/home/matilda/g09/g09 molecula.com\n",
    "    %cd .."
   ]
  },
  {
   "cell_type": "code",
   "execution_count": 10,
   "metadata": {},
   "outputs": [
    {
     "name": "stdout",
     "output_type": "stream",
     "text": [
      " SCF Done:  E(RB3LYP) =  -1.10564883199     A.U. after    7 cycles\n",
      " SCF Done:  E(RB3LYP) =  -1.13856183438     A.U. after    7 cycles\n",
      " SCF Done:  E(RB3LYP) =  -1.15928036111     A.U. after    6 cycles\n",
      " SCF Done:  E(RB3LYP) =  -1.17133888996     A.U. after    7 cycles\n",
      " SCF Done:  E(RB3LYP) =  -1.17717408354     A.U. after    7 cycles\n",
      " SCF Done:  E(RB3LYP) =  -1.17850460568     A.U. after    6 cycles\n",
      " SCF Done:  E(RB3LYP) =  -1.17656611770     A.U. after    6 cycles\n",
      " SCF Done:  E(RB3LYP) =  -1.17226093282     A.U. after    6 cycles\n",
      " SCF Done:  E(RB3LYP) =  -1.16625519726     A.U. after    6 cycles\n",
      " SCF Done:  E(RB3LYP) =  -1.15904432870     A.U. after    5 cycles\n",
      " SCF Done:  E(RB3LYP) =  -1.15099889053     A.U. after    5 cycles\n",
      " SCF Done:  E(RB3LYP) =  -1.14239745316     A.U. after    6 cycles\n",
      " SCF Done:  E(RB3LYP) =  -1.13345076928     A.U. after    6 cycles\n",
      " SCF Done:  E(RB3LYP) =  -1.12431931825     A.U. after    6 cycles\n",
      " SCF Done:  E(RB3LYP) =  -1.11512610186     A.U. after    6 cycles\n",
      " SCF Done:  E(RB3LYP) =  -1.10596591359     A.U. after    5 cycles\n",
      " SCF Done:  E(RB3LYP) =  -1.09691167888     A.U. after    5 cycles\n",
      " SCF Done:  E(RB3LYP) =  -1.08801923885     A.U. after    5 cycles\n",
      " SCF Done:  E(RB3LYP) =  -1.07933065016     A.U. after    5 cycles\n",
      " SCF Done:  E(RB3LYP) =  -1.07087661620     A.U. after    5 cycles\n",
      " SCF Done:  E(RB3LYP) =  -1.06267879937     A.U. after    5 cycles\n",
      " SCF Done:  E(RB3LYP) =  -1.05475154360     A.U. after    5 cycles\n",
      " SCF Done:  E(RB3LYP) =  -1.04710327910     A.U. after    5 cycles\n",
      " SCF Done:  E(RB3LYP) =  -1.03973808360     A.U. after    5 cycles\n",
      " SCF Done:  E(RB3LYP) =  -1.03265681067     A.U. after    5 cycles\n",
      " SCF Done:  E(RB3LYP) =  -1.02585772968     A.U. after    5 cycles\n",
      " SCF Done:  E(RB3LYP) =  -1.01933726633     A.U. after    6 cycles\n",
      " SCF Done:  E(RB3LYP) =  -1.01309068963     A.U. after    6 cycles\n",
      " SCF Done:  E(RB3LYP) =  -1.00711233947     A.U. after    5 cycles\n",
      " SCF Done:  E(RB3LYP) =  -1.00139569754     A.U. after    5 cycles\n"
     ]
    }
   ],
   "source": [
    "for energia in range(30):\n",
    "    !grep \"SCF Done\" ./{energia}/molecula.log"
   ]
  },
  {
   "cell_type": "code",
   "execution_count": null,
   "metadata": {},
   "outputs": [],
   "source": [
    "#Para solo un archivo de entrada\n",
    "#-------------------------------\n",
    "# Creamos un archivo temporal de input \"input_tmp\" \n",
    "# con el nivel de calculo y las coordenadas\n",
    "!ls *txt 1.xyz > input_tmp\n",
    "# Convertimos este contenido en una lista\n",
    "f = open(\"input_tmp\",\"r\")\n",
    "filenames = f.read().splitlines()\n",
    "print(filenames)"
   ]
  },
  {
   "cell_type": "code",
   "execution_count": null,
   "metadata": {},
   "outputs": [],
   "source": [
    "#filenames = ['config_input', 'hidro.xyz']\n",
    "with open('/home/matilda/00_grupo_quimica/lennard_jones/acido1.com', 'w') as outfile:\n",
    "    for fname in filenames:\n",
    "        with open(fname) as infile:\n",
    "            for line in infile:\n",
    "                outfile.write(line)\n",
    "    outfile.write(\"\\n\")\n",
    "    outfile.write(\"\\n\")\n",
    "    outfile.write(\"\\n\")"
   ]
  }
 ],
 "metadata": {
  "kernelspec": {
   "display_name": "Python 3",
   "language": "python",
   "name": "python3"
  },
  "language_info": {
   "codemirror_mode": {
    "name": "ipython",
    "version": 3
   },
   "file_extension": ".py",
   "mimetype": "text/x-python",
   "name": "python",
   "nbconvert_exporter": "python",
   "pygments_lexer": "ipython3",
   "version": "3.8.5"
  }
 },
 "nbformat": 4,
 "nbformat_minor": 4
}
